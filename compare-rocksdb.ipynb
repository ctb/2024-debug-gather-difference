{
 "cells": [
  {
   "cell_type": "markdown",
   "id": "aa043560-41fd-4cbf-a736-5a53842202d0",
   "metadata": {},
   "source": [
    "# Compare two different gather CSV files to find differences, if any"
   ]
  },
  {
   "cell_type": "code",
   "execution_count": 53,
   "id": "84991a64-c661-4e1b-883a-d1991da95ec8",
   "metadata": {},
   "outputs": [],
   "source": [
    "import pandas as pd\n",
    "from itertools import zip_longest"
   ]
  },
  {
   "cell_type": "code",
   "execution_count": 54,
   "id": "27537359-c0ef-45f5-a083-488118974765",
   "metadata": {},
   "outputs": [
    {
     "name": "stdout",
     "output_type": "stream",
     "text": [
      "SRR606249.gather.csv\n",
      "SRR606249.prefetch.csv\n",
      "SRR606249.x.combined-matches.gather.picklist.csv\n",
      "srr.fg.csv\n",
      "srr.fmg-rocksdb.csv\n",
      "srr.fmg.csv\n"
     ]
    }
   ],
   "source": [
    "ls *.csv"
   ]
  },
  {
   "cell_type": "code",
   "execution_count": 55,
   "id": "3c66134e-1a60-4f27-a8d7-93c38f17c2cf",
   "metadata": {},
   "outputs": [],
   "source": [
    "#gather1 = pd.read_csv('SRR606249.x.combined-matches.gather.picklist.csv')\n",
    "gather1 = pd.read_csv('srr.fmg.csv')\n",
    "gather2 = pd.read_csv('srr.fmg-rocksdb.csv')"
   ]
  },
  {
   "cell_type": "markdown",
   "id": "3b5c9ddc-e8be-42ec-8699-7c8fc473a04c",
   "metadata": {},
   "source": [
    "## Compare column names, since we sometimes use different column names...\n"
   ]
  },
  {
   "cell_type": "code",
   "execution_count": 56,
   "id": "c0a71171-055a-4cb2-9d6a-e126bdc17085",
   "metadata": {},
   "outputs": [
    {
     "data": {
      "text/plain": [
       "set()"
      ]
     },
     "execution_count": 56,
     "metadata": {},
     "output_type": "execute_result"
    }
   ],
   "source": [
    "set(gather1.columns) - set(gather2.columns)"
   ]
  },
  {
   "cell_type": "code",
   "execution_count": 57,
   "id": "63c9da99-7a5b-4da8-89f0-fb943362a906",
   "metadata": {},
   "outputs": [
    {
     "data": {
      "text/plain": [
       "set()"
      ]
     },
     "execution_count": 57,
     "metadata": {},
     "output_type": "execute_result"
    }
   ],
   "source": [
    "set(gather2.columns) - set(gather1.columns)"
   ]
  },
  {
   "cell_type": "code",
   "execution_count": 58,
   "id": "c45ca5a0-9bd3-4410-ac41-268df9b7af51",
   "metadata": {},
   "outputs": [],
   "source": [
    "# gather2 = gather2.rename(columns={ 'match_name': 'name', 'match_md5': 'md5', 'match_filename': 'filename'})"
   ]
  },
  {
   "cell_type": "markdown",
   "id": "5893a103-812a-4bc2-ba74-5cd4e998ca2e",
   "metadata": {},
   "source": [
    "## Convert pandas dataframes into something simple to compare"
   ]
  },
  {
   "cell_type": "code",
   "execution_count": 59,
   "id": "1a374834-832d-46bf-be6a-84c35c8ee397",
   "metadata": {},
   "outputs": [
    {
     "data": {
      "text/plain": [
       "[[0.0218961439346692,\n",
       "  'GCF_000013645.1 Paraburkholderia xenovorans LB400 strain=LB400, ASM1364v1',\n",
       "  415611000],\n",
       " [0.017151665627243,\n",
       "  'GCF_000009705.1 Nostoc sp. PCC 7120 = FACHB-418 strain=PCC 7120, ASM970v1',\n",
       "  408323000],\n",
       " [0.0165656660743913,\n",
       "  'GCF_000196115.1 Rhodopirellula baltica SH 1 strain=1, ASM19611v1',\n",
       "  401284000]]"
      ]
     },
     "execution_count": 59,
     "metadata": {},
     "output_type": "execute_result"
    }
   ],
   "source": [
    "gather1_rows = [ list(tup[1]) for tup in gather1[['f_unique_to_query', 'match_name', 'remaining_bp']].iterrows() ]\n",
    "gather1_rows.sort(reverse=True)\n",
    "gather1_rows[:3]"
   ]
  },
  {
   "cell_type": "code",
   "execution_count": 60,
   "metadata": {},
   "outputs": [
    {
     "data": {
      "text/plain": [
       "[[0.0218961439346692,\n",
       "  'GCF_000013645.1 Paraburkholderia xenovorans LB400 strain=LB400, ASM1364v1',\n",
       "  415611000],\n",
       " [0.017151665627243,\n",
       "  'GCF_000009705.1 Nostoc sp. PCC 7120 = FACHB-418 strain=PCC 7120, ASM970v1',\n",
       "  408323000],\n",
       " [0.0165656660743913,\n",
       "  'GCF_000196115.1 Rhodopirellula baltica SH 1 strain=1, ASM19611v1',\n",
       "  401284000]]"
      ]
     },
     "execution_count": 60,
     "metadata": {},
     "output_type": "execute_result"
    }
   ],
   "source": [
    "gather2_rows = [ list(tup[1]) for tup in gather2[['f_unique_to_query', 'match_name', 'remaining_bp']].iterrows() ]\n",
    "gather2_rows.sort(reverse=True)\n",
    "gather2_rows[:3]"
   ]
  },
  {
   "cell_type": "markdown",
   "id": "59a1123e-07a5-485f-b1ad-8cc3f403664a",
   "metadata": {},
   "source": [
    "## Compare!"
   ]
  },
  {
   "cell_type": "code",
   "execution_count": 61,
   "id": "e9b50356-db25-48e0-b5fa-0d45d2088acc",
   "metadata": {},
   "outputs": [
    {
     "name": "stdout",
     "output_type": "stream",
     "text": [
      "0.0218961439346692 0.0218961439346692 True True\n",
      "0.017151665627243 0.017151665627243 True True\n",
      "0.0165656660743913 0.0165656660743913 True True\n",
      "0.0155419319157949 0.0155419319157949 True True\n",
      "0.0148876834190367 0.0148876834190367 True True\n",
      "0.0127601990986432 0.0127601990986432 True True\n",
      "0.0122071473118153 0.0122071473118153 True True\n",
      "0.0121388983679088 0.0121388983679088 True True\n",
      "0.01191297082946 0.01191297082946 True True\n",
      "0.011882376475295 0.011882376475295 True True\n",
      "0.0116423284656931 0.0116423284656931 True True\n",
      "0.0111622324464892 0.0111622324464892 True True\n",
      "0.0108939434945812 0.0108939434945812 True True\n",
      "0.010658602308697 0.010658602308697 True True\n",
      "0.0100255345186684 0.0100255345186684 True True\n",
      "0.0098066672157961 0.0098066672157961 True True\n",
      "0.0092536154289681 0.0092536154289681 True True\n",
      "0.0090700493039784 0.0090700493039784 True True\n",
      "0.0088888365908475 0.0088888365908475 True True\n",
      "0.0086040737559276 0.0086040737559276 True True\n",
      "0.0076415283056611 0.0076415283056611 True True\n",
      "0.0075356247720132 0.0075356247720132 True True\n",
      "0.0069731593377499 0.0069731593377499 True True\n",
      "0.0067660590941717 0.0067660590941717 True True\n",
      "0.0067354647400068 0.0067354647400068 True True\n",
      "0.006702516973983 0.006702516973983 True True\n",
      "0.0065401315557229 0.0065401315557229 True False\n",
      "***\t GCF_900184165.1 Caldicellulosiruptor bescii strain=DSMZ 6725, IMG-taxon 2663762791 annotated assembly\n",
      "\t GCF_000022325.1 Caldicellulosiruptor bescii DSM 6725 strain=DSM 6725, ASM2232v1\n"
     ]
    },
    {
     "ename": "AssertionError",
     "evalue": "",
     "output_type": "error",
     "traceback": [
      "\u001b[0;31m---------------------------------------------------------------------------\u001b[0m",
      "\u001b[0;31mAssertionError\u001b[0m                            Traceback (most recent call last)",
      "Cell \u001b[0;32mIn[61], line 6\u001b[0m\n\u001b[1;32m      4\u001b[0m \u001b[38;5;28mprint\u001b[39m(\u001b[38;5;124m'\u001b[39m\u001b[38;5;124m***\u001b[39m\u001b[38;5;130;01m\\t\u001b[39;00m\u001b[38;5;124m'\u001b[39m, x[\u001b[38;5;241m1\u001b[39m])\n\u001b[1;32m      5\u001b[0m \u001b[38;5;28mprint\u001b[39m(\u001b[38;5;124m'\u001b[39m\u001b[38;5;130;01m\\t\u001b[39;00m\u001b[38;5;124m'\u001b[39m, y[\u001b[38;5;241m1\u001b[39m])\n\u001b[0;32m----> 6\u001b[0m \u001b[38;5;28;01massert\u001b[39;00m \u001b[38;5;241m0\u001b[39m\n",
      "\u001b[0;31mAssertionError\u001b[0m: "
     ]
    }
   ],
   "source": [
    "for x, y in zip_longest(gather1_rows, gather2_rows, fillvalue=(None, None, None)):\n",
    "    print (x[0], y[0], round(x[0], 3) == round(y[0], 3), x[1] == y[1])\n",
    "    if x[1] != y[1]:\n",
    "        print('***\\t', x[1])\n",
    "        print('\\t', y[1])\n",
    "        assert 0"
   ]
  },
  {
   "cell_type": "markdown",
   "id": "6e10bbe9",
   "metadata": {},
   "source": []
  },
  {
   "cell_type": "markdown",
   "id": "dba3301c-2ac8-4fcf-8b12-5a4e69feb0cb",
   "metadata": {},
   "source": [
    "# do some additional checking"
   ]
  },
  {
   "cell_type": "code",
   "execution_count": 18,
   "id": "fa69aa1d-f615-4b4f-9251-b56db611bc49",
   "metadata": {},
   "outputs": [
    {
     "data": {
      "text/plain": [
       "['DNA', 'DNA', 'DNA', 'DNA', 'DNA']"
      ]
     },
     "execution_count": 18,
     "metadata": {},
     "output_type": "execute_result"
    }
   ],
   "source": [
    "def extract_column_to_list(df, name):\n",
    "    col = df[[name]]\n",
    "    xx = [ list(tup[1])[0] for tup in col.iterrows() ]\n",
    "    return xx\n",
    "\n",
    "extract_column_to_list(gather1, 'moltype')[:5]"
   ]
  },
  {
   "cell_type": "code",
   "execution_count": 19,
   "id": "3cd6a8b1-10d5-4b29-833f-57d3d91d7273",
   "metadata": {},
   "outputs": [
    {
     "name": "stdout",
     "output_type": "stream",
     "text": [
      "same:\n",
      "* query_name\n",
      "* intersect_bp\n",
      "* f_unique_weighted\n",
      "* query_abundance\n",
      "* unique_intersect_bp\n",
      "* query_filename\n",
      "* scaled\n",
      "* f_orig_query\n",
      "* query_md5\n",
      "* f_unique_to_query\n",
      "* remaining_bp\n",
      "* ksize\n",
      "* total_weighted_hashes\n",
      "* query_n_hashes\n",
      "* gather_result_rank\n",
      "* median_abund\n",
      "* moltype\n",
      "* query_bp\n",
      "* query_containment_ani\n",
      "diff:\n",
      "* sum_weighted_found\n",
      "* f_match_orig\n",
      "* average_containment_ani\n",
      "* n_unique_weighted_found\n",
      "* f_match\n",
      "* match_filename\n",
      "* match_md5\n",
      "* average_abund\n",
      "* std_abund\n",
      "* match_name\n",
      "* max_containment_ani\n",
      "* match_containment_ani\n"
     ]
    }
   ],
   "source": [
    "round5 = lambda x: round(x, 5)\n",
    "fix_columns = {}\n",
    "fix_columns['moltype'] = lambda x: x.upper()\n",
    "fix_columns['std_abund'] = round5\n",
    "fix_columns['f_unique_weighted'] = round5\n",
    "fix_columns['query_md5'] = lambda x: x[:8]\n",
    "\n",
    "xx_same = []\n",
    "xx_diff = []\n",
    "\n",
    "diff_values = {}\n",
    "for name in set(gather1.columns).intersection(set(gather2.columns)):\n",
    "    col1 = extract_column_to_list(gather1, name)\n",
    "    col2 = extract_column_to_list(gather2, name)\n",
    "    if name in fix_columns:\n",
    "        fn = fix_columns[name]\n",
    "        col1 = [ fn(i) for i in col1 ]\n",
    "        col2 = [ fn(i) for i in col2 ]\n",
    "    col1.sort()\n",
    "    col2.sort()\n",
    "    same = col1 == col2\n",
    "    if not same:\n",
    "        xx_diff.append(name)\n",
    "        diff_values[name] = (col1, col2)\n",
    "    else:\n",
    "        xx_same.append(name)\n",
    "\n",
    "print(\"same:\")\n",
    "print(\"*\", \"\\n* \".join(xx_same))\n",
    "print(\"diff:\")\n",
    "print(\"*\", \"\\n* \".join(xx_diff))"
   ]
  },
  {
   "cell_type": "markdown",
   "id": "64b89da1-c3f4-4349-a9f7-24be372aa97f",
   "metadata": {},
   "source": [
    "## display the differences"
   ]
  },
  {
   "cell_type": "code",
   "execution_count": 20,
   "id": "fb17cecb-edaa-404c-92aa-a4a8bce65ba8",
   "metadata": {},
   "outputs": [
    {
     "name": "stdout",
     "output_type": "stream",
     "text": [
      "column: sum_weighted_found\n",
      "\t [62498, 236385, 901311, 1008705, 1118456]\n",
      "\t [62498, 236385, 901311, 1008705, 1118456]\n",
      "column: f_match_orig\n",
      "\t [0.0158966716343765, 0.0273689052437902, 0.0325396825396825, 0.0442307692307692, 0.0463814474210315]\n",
      "\t [0.0157674304015767, 0.0273689052437902, 0.0325396825396825, 0.0442307692307692, 0.0463814474210315]\n",
      "column: average_containment_ani\n",
      "\t [0.8030821713190552, 0.8035328288968542, 0.8126325027236858, 0.8148973681652129, 0.8165208378337229]\n",
      "\t [0.8030821713190552, 0.8035328288968542, 0.8125174961970814, 0.8148973681652129, 0.8165208378337229]\n",
      "column: n_unique_weighted_found\n",
      "\t [67, 81, 85, 101, 111]\n",
      "\t [67, 85, 88, 101, 111]\n",
      "column: f_match\n",
      "\t [0.0080042689434365, 0.0089301348275258, 0.014388489208633, 0.0151515151515151, 0.0232134729176149]\n",
      "\t [0.0080042689434365, 0.0089301348275258, 0.014388489208633, 0.0150283321015028, 0.0232134729176149]\n",
      "column: match_filename\n",
      "\t ['signatures/0376e0e4e8f660a71512eec2bcbbc793.sig.gz', 'signatures/03c6e78f14ab8af588f748653db2d6fb.sig.gz', 'signatures/05abaf28975f70b7399c549052f64e01.sig.gz', 'signatures/08a7e8122383feb4f03413e87457084a.sig.gz', 'signatures/09035b7cd317402c14fc924318845177.sig.gz']\n",
      "\t ['/dev/fd/63', '/dev/fd/63', '/dev/fd/63', '/dev/fd/63', '/dev/fd/63']\n",
      "column: match_md5\n",
      "\t ['0376e0e4e8f660a71512eec2bcbbc793', '03c6e78f14ab8af588f748653db2d6fb', '05abaf28975f70b7399c549052f64e01', '08a7e8122383feb4f03413e87457084a', '09035b7cd317402c14fc924318845177']\n",
      "\t ['0376e0e4e8f660a71512eec2bcbbc793', '03c6e78f14ab8af588f748653db2d6fb', '05abaf28975f70b7399c549052f64e01', '08a7e8122383feb4f03413e87457084a', '09035b7cd317402c14fc924318845177']\n",
      "column: average_abund\n",
      "\t [1.1166666666666667, 1.256544502617801, 1.301980198019802, 1.3278688524590163, 1.3411764705882352]\n",
      "\t [1.1166666666666667, 1.256544502617801, 1.301980198019802, 1.3411764705882352, 1.353658536585366]\n",
      "column: std_abund\n",
      "\t [0.36931, 0.56471, 0.59206, 0.62425, 0.64708]\n",
      "\t [0.36931, 0.56471, 0.59206, 0.62425, 0.64708]\n",
      "column: match_name\n",
      "\t ['GCA_000008085.1 Nanoarchaeum equitans Kin4-M, ASM808v1', 'GCA_000018565.1 Herpetosiphon aurantiacus DSM 785, ASM1856v1', 'GCA_001596115.1 Shigella sp. PAMC 28760 strain=PAMC 28760, ASM159611v1', 'GCA_002878035.1 Sulfurihydrogenibium sp., ASM287803v1', 'GCA_003510745.1 Sulfurihydrogenibium sp., ASM351074v1']\n",
      "\t ['GCA_000008085.1 Nanoarchaeum equitans Kin4-M, ASM808v1', 'GCA_000018565.1 Herpetosiphon aurantiacus DSM 785, ASM1856v1', 'GCA_001596115.1 Shigella sp. PAMC 28760 strain=PAMC 28760, ASM159611v1', 'GCA_002878035.1 Sulfurihydrogenibium sp., ASM287803v1', 'GCA_003510745.1 Sulfurihydrogenibium sp., ASM351074v1']\n",
      "column: max_containment_ani\n",
      "\t [0.8557860744055599, 0.858813070934693, 0.8721298182460694, 0.8735847304990553, 0.8856904039640281]\n",
      "\t [0.8557860744055599, 0.858813070934693, 0.8721298182460694, 0.8733547174458461, 0.8856904039640281]\n",
      "column: match_containment_ani\n",
      "\t [0.8557860744055599, 0.858813070934693, 0.8721298182460694, 0.8735847304990553, 0.8856904039640281]\n",
      "\t [0.8557860744055599, 0.858813070934693, 0.8721298182460694, 0.8733547174458461, 0.8856904039640281]\n"
     ]
    }
   ],
   "source": [
    "for name in xx_diff:\n",
    "    print('column:', name)\n",
    "    print('\\t', diff_values[name][0][:5])\n",
    "    print('\\t', diff_values[name][1][:5])"
   ]
  },
  {
   "cell_type": "code",
   "execution_count": 21,
   "id": "55b7b334-1879-4a42-82f1-064f4762e79f",
   "metadata": {},
   "outputs": [
    {
     "name": "stdout",
     "output_type": "stream",
     "text": [
      "62498 62498 True\n",
      "236385 236385 True\n",
      "901311 901311 True\n",
      "1008705 1008705 True\n",
      "1118456 1118456 True\n",
      "1193684 1193684 True\n",
      "1254446 1254446 True\n",
      "1309980 1309980 True\n",
      "1386711 1386711 True\n",
      "1514077 1514077 True\n",
      "1582287 1582287 True\n",
      "1668260 1668260 True\n",
      "1950653 1950653 True\n",
      "1993145 1993145 True\n",
      "2052525 2052525 True\n",
      "2283220 2283220 True\n",
      "2357379 2357379 True\n",
      "2681284 2681284 True\n",
      "2881423 2881423 True\n",
      "2973486 2973486 True\n",
      "3035985 3035985 True\n",
      "3083836 3083836 True\n",
      "3167290 3167290 True\n",
      "3257426 3257426 True\n",
      "3348580 3348580 True\n",
      "3474044 3474044 True\n",
      "3551638 3551638 True\n",
      "3788839 3788839 True\n",
      "3854935 3854935 True\n",
      "3932129 3932129 True\n",
      "4123436 4123436 True\n",
      "4215229 4215229 True\n",
      "4236597 4236597 True\n",
      "4322125 4322125 True\n",
      "4389460 4389460 True\n",
      "4424879 4424879 True\n",
      "4565008 4565008 True\n",
      "4612731 4612731 True\n",
      "4691026 4691026 True\n",
      "4772858 4772858 True\n",
      "4848277 4848277 True\n",
      "5029371 5029371 True\n",
      "5048037 5048037 True\n",
      "5106644 5106644 True\n",
      "5169630 5169630 True\n",
      "5273487 5273487 True\n",
      "5380082 5380082 True\n",
      "5492824 5492824 True\n",
      "5604837 5604837 True\n",
      "5791797 5791797 True\n",
      "5855337 5855337 True\n",
      "5965831 5965831 True\n",
      "6035119 6035119 True\n",
      "6199497 6199497 True\n",
      "6274561 6274561 True\n",
      "6595076 6595076 True\n",
      "6663773 6663773 True\n",
      "6728590 6728590 True\n",
      "6830287 6830287 True\n",
      "6875306 6875306 True\n",
      "6953482 6953482 True\n",
      "6974872 6974872 True\n",
      "6992077 6992077 True\n",
      "7034654 7034654 True\n",
      "7035618 7035618 True\n",
      "7131816 7131816 True\n",
      "7138051 7138051 True\n",
      "7142458 7142458 True\n",
      "7142721 7142721 True\n",
      "7142961 7142961 True\n",
      "7143294 7143294 True\n",
      "7145704 7145704 True\n",
      "7149224 7149224 True\n",
      "7149394 7149394 True\n",
      "7149594 7149594 True\n",
      "7149708 7149708 True\n",
      "7149819 7149819 True\n",
      "7149959 7149959 True\n",
      "7151143 7151143 True\n",
      "7151224 7151231 False\n",
      "7151291 7151298 False\n",
      "7151392 7151399 False\n",
      "7151477 7152371 False\n",
      "7152449 7152456 False\n"
     ]
    }
   ],
   "source": [
    "# WTF\n",
    "x, y = diff_values['sum_weighted_found']\n",
    "for i, j in list(zip(x, y)):\n",
    "    print(i, j, i==j)"
   ]
  },
  {
   "cell_type": "code",
   "execution_count": null,
   "id": "2011b4b7-4dc5-4568-9c16-76f17c7d909e",
   "metadata": {},
   "outputs": [],
   "source": []
  }
 ],
 "metadata": {
  "kernelspec": {
   "display_name": "Python 3 (ipykernel)",
   "language": "python",
   "name": "python3"
  },
  "language_info": {
   "codemirror_mode": {
    "name": "ipython",
    "version": 3
   },
   "file_extension": ".py",
   "mimetype": "text/x-python",
   "name": "python",
   "nbconvert_exporter": "python",
   "pygments_lexer": "ipython3",
   "version": "3.12.3"
  }
 },
 "nbformat": 4,
 "nbformat_minor": 5
}
