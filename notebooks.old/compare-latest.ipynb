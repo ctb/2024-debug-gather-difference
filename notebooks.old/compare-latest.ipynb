{
 "cells": [
  {
   "cell_type": "markdown",
   "id": "aa043560-41fd-4cbf-a736-5a53842202d0",
   "metadata": {},
   "source": [
    "# Compare two different gather CSV files to find differences, if any"
   ]
  },
  {
   "cell_type": "code",
   "execution_count": 14,
   "id": "84991a64-c661-4e1b-883a-d1991da95ec8",
   "metadata": {},
   "outputs": [],
   "source": [
    "import pandas as pd\n",
    "from itertools import zip_longest"
   ]
  },
  {
   "cell_type": "code",
   "execution_count": 2,
   "id": "27537359-c0ef-45f5-a083-488118974765",
   "metadata": {},
   "outputs": [
    {
     "name": "stdout",
     "output_type": "stream",
     "text": [
      "SRR606249.prefetch.csv\n",
      "SRR606249.x.combined-matches.gather.csv\n",
      "srr.fg.csv\n",
      "srr.fmg.csv\n"
     ]
    }
   ],
   "source": [
    "ls *.csv"
   ]
  },
  {
   "cell_type": "code",
   "execution_count": 4,
   "id": "3c66134e-1a60-4f27-a8d7-93c38f17c2cf",
   "metadata": {},
   "outputs": [],
   "source": [
    "gather1 = pd.read_csv('SRR606249.x.combined-matches.gather.csv')\n",
    "gather2 = pd.read_csv('srr.fmg.csv')"
   ]
  },
  {
   "cell_type": "markdown",
   "id": "3b5c9ddc-e8be-42ec-8699-7c8fc473a04c",
   "metadata": {},
   "source": [
    "## Compare column names, since we sometimes use different column names...\n"
   ]
  },
  {
   "cell_type": "code",
   "execution_count": 10,
   "id": "c0a71171-055a-4cb2-9d6a-e126bdc17085",
   "metadata": {},
   "outputs": [
    {
     "data": {
      "text/plain": [
       "{'filename', 'md5', 'name', 'potential_false_negative'}"
      ]
     },
     "execution_count": 10,
     "metadata": {},
     "output_type": "execute_result"
    }
   ],
   "source": [
    "set(gather1.columns) - set(gather2.columns)"
   ]
  },
  {
   "cell_type": "code",
   "execution_count": 11,
   "id": "63c9da99-7a5b-4da8-89f0-fb943362a906",
   "metadata": {},
   "outputs": [
    {
     "data": {
      "text/plain": [
       "{'match_filename', 'match_md5', 'match_name'}"
      ]
     },
     "execution_count": 11,
     "metadata": {},
     "output_type": "execute_result"
    }
   ],
   "source": [
    "set(gather2.columns) - set(gather1.columns)"
   ]
  },
  {
   "cell_type": "markdown",
   "id": "5893a103-812a-4bc2-ba74-5cd4e998ca2e",
   "metadata": {},
   "source": [
    "## Convert pandas dataframes into something simple to compare"
   ]
  },
  {
   "cell_type": "code",
   "execution_count": 12,
   "id": "1a374834-832d-46bf-be6a-84c35c8ee397",
   "metadata": {},
   "outputs": [
    {
     "data": {
      "text/plain": [
       "[[0.0218961439346692,\n",
       "  'GCF_000013645.1 Paraburkholderia xenovorans LB400 strain=LB400, ASM1364v1',\n",
       "  194064000],\n",
       " [0.017151665627243,\n",
       "  'GCF_000009705.1 Nostoc sp. PCC 7120 = FACHB-418 strain=PCC 7120, ASM970v1',\n",
       "  186776000],\n",
       " [0.0165656660743913,\n",
       "  'GCF_000196115.1 Rhodopirellula baltica SH 1 strain=1, ASM19611v1',\n",
       "  179737000]]"
      ]
     },
     "execution_count": 12,
     "metadata": {},
     "output_type": "execute_result"
    }
   ],
   "source": [
    "gather1_rows = [ list(tup[1]) for tup in gather1[['f_unique_to_query', 'name', 'remaining_bp']].iterrows() ]\n",
    "gather1_rows.sort(reverse=True)\n",
    "gather1_rows[:3]"
   ]
  },
  {
   "cell_type": "code",
   "execution_count": 9,
   "id": "7447f598-bd63-4988-b179-e12cba5f57fb",
   "metadata": {},
   "outputs": [
    {
     "data": {
      "text/plain": [
       "[[0.0218961439346692,\n",
       "  'GCF_000013645.1 Paraburkholderia xenovorans LB400 strain=LB400, ASM1364v1',\n",
       "  415611000],\n",
       " [0.017151665627243,\n",
       "  'GCF_000009705.1 Nostoc sp. PCC 7120 = FACHB-418 strain=PCC 7120, ASM970v1',\n",
       "  408323000],\n",
       " [0.0165656660743913,\n",
       "  'GCF_000196115.1 Rhodopirellula baltica SH 1 strain=1, ASM19611v1',\n",
       "  401284000]]"
      ]
     },
     "execution_count": 9,
     "metadata": {},
     "output_type": "execute_result"
    }
   ],
   "source": [
    "gather2_rows = [ list(tup[1]) for tup in gather2[['f_unique_to_query', 'match_name', 'remaining_bp']].iterrows() ]\n",
    "gather2_rows.sort(reverse=True)\n",
    "gather2_rows[:3]"
   ]
  },
  {
   "cell_type": "markdown",
   "id": "59a1123e-07a5-485f-b1ad-8cc3f403664a",
   "metadata": {},
   "source": [
    "## Compare!"
   ]
  },
  {
   "cell_type": "code",
   "execution_count": 15,
   "id": "e9b50356-db25-48e0-b5fa-0d45d2088acc",
   "metadata": {},
   "outputs": [
    {
     "name": "stdout",
     "output_type": "stream",
     "text": [
      "0.0218961439346692 0.0218961439346692 True True\n",
      "0.017151665627243 0.017151665627243 True True\n",
      "0.0165656660743913 0.0165656660743913 True True\n",
      "0.0155419319157949 0.0155419319157949 True True\n",
      "0.0148876834190367 0.0148876834190367 True True\n",
      "0.0127601990986432 0.0127601990986432 True True\n",
      "0.0122071473118153 0.0122071473118153 True True\n",
      "0.0121388983679088 0.0121388983679088 True True\n",
      "0.01191297082946 0.01191297082946 True True\n",
      "0.011882376475295 0.011882376475295 True True\n",
      "0.0116423284656931 0.0116423284656931 True False\n",
      "***\t GCF_000012825.1 Bacteroides vulgatus ATCC 8482 strain=ATCC 8482, ASM1282v1\n",
      "\t GCF_002959625.1 Bacteroides vulgatus strain=ATCC 8492, ASM295962v1\n",
      "0.0111622324464892 0.0111622324464892 True True\n",
      "0.0108939434945812 0.0108939434945812 True True\n",
      "0.010658602308697 0.010658602308697 True True\n",
      "0.0100255345186684 0.0100255345186684 True True\n",
      "0.0098066672157961 0.0098066672157961 True True\n",
      "0.0092536154289681 0.0092536154289681 True True\n",
      "0.0090700493039784 0.0090700493039784 True True\n",
      "0.0088888365908475 0.0088888365908475 True True\n",
      "0.0086040737559276 0.0086040737559276 True True\n",
      "0.0076415283056611 0.0076415283056611 True True\n",
      "0.0075356247720132 0.0075356247720132 True True\n",
      "0.0069731593377499 0.0069731593377499 True True\n",
      "0.0067660590941717 0.0067660590941717 True True\n",
      "0.0067354647400068 0.0067354647400068 True True\n",
      "0.006702516973983 0.006702516973983 True True\n",
      "0.0065401315557229 0.0065401315557229 True False\n",
      "***\t GCF_900184165.1 Caldicellulosiruptor bescii strain=DSMZ 6725, IMG-taxon 2663762791 annotated assembly\n",
      "\t GCF_000022325.1 Caldicellulosiruptor bescii DSM 6725 strain=DSM 6725, ASM2232v1\n",
      "0.0064177541390631 0.0064177541390631 True True\n",
      "0.0063565654307332 0.0063565654307332 True True\n",
      "0.0063259710765682 0.0063259710765682 True True\n",
      "0.0063047903698386 0.0063047903698386 True True\n",
      "0.0062883164868267 0.0062883164868267 True True\n",
      "0.0062106538954849 0.0062106538954849 True True\n",
      "0.0061212242448489 0.0061212242448489 True True\n",
      "0.0059211842368473 0.0059211842368473 True True\n",
      "0.0057964534083287 0.0057964534083287 True True\n",
      "0.0052881164468187 0.0052881164468187 True True\n",
      "0.0051986867961827 0.0051986867961827 True True\n",
      "0.0050951366743937 0.0050951366743937 True True\n",
      "0.0050763093795229 0.0050763093795229 True True\n",
      "0.0050410082016403 0.0050410082016403 True True\n",
      "0.0050339479660638 0.0050339479660638 True True\n",
      "0.005015120671193 0.005015120671193 True True\n",
      "0.0049633456102985 0.0049633456102985 True True\n",
      "0.0047774260734499 0.0047774260734499 True True\n",
      "0.0046997634821081 0.0046997634821081 True True\n",
      "0.0046597554805078 0.0046597554805078 True True\n",
      "0.0046409281856371 0.0046409281856371 True True\n",
      "0.0045938599484602 0.0045938599484602 True True\n",
      "0.0043561653507172 0.0043561653507172 True True\n",
      "0.004327924408411 0.004327924408411 True True\n",
      "0.0043232175846934 0.0043232175846934 True True\n",
      "0.0041773060494451 0.0041773060494451 True True\n",
      "0.0040972900462445 0.0040972900462445 True True\n",
      "0.0039513785109963 0.0039513785109963 True True\n",
      "0.0039349046279844 0.0039349046279844 True True\n",
      "0.0038384147417718 0.0038384147417718 True True\n",
      "0.0036925032065236 0.0036925032065236 True True\n",
      "0.0036783827353706 0.0036783827353706 True True\n",
      "0.0035607121424284 0.0035607121424284 True True\n",
      "0.0034759893155101 0.0034759893155101 True True\n",
      "0.0030217808267535 0.0030217808267535 True True\n",
      "0.0026640622242095 0.0026640622242095 True True\n",
      "0.0017274043043902 0.0017274043043902 True True\n",
      "0.0012096536954449 0.0012096536954449 True True\n",
      "0.001014320511161 0.001014320511161 True True\n",
      "0.0009860795688549 0.0009860795688549 True True\n",
      "0.0008660555640539 0.0008660555640539 True True\n",
      "0.0004753891954861 0.0004753891954861 True True\n",
      "0.0004495016650388 0.0004495016650388 True True\n",
      "0.0004400880176035 0.0004400880176035 True True\n",
      "0.0003694856618382 0.0003694856618382 True True\n",
      "0.0003294776602379 0.0003294776602379 True True\n",
      "0.0002729957756257 0.0002729957756257 True True\n",
      "0.0002541684807549 0.0002541684807549 True True\n",
      "0.0002000400080016 0.0002000400080016 True True\n",
      "0.000192979772425 0.000192979772425 True True\n",
      "0.0001835661249897 0.0001835661249897 True True\n",
      "0.0001835661249897 0.0001835661249897 True True\n",
      "0.0001435581233893 0.0001435581233893 True False\n",
      "***\t GCF_000379045.1 Sphingomonas melonis DAPP-PG 224 strain=DAPP-PG 224, ASM37904v1\n",
      "\t GCF_000419565.1 Sphingomonas melonis FR1 strain=FR1, ASM41956v1\n",
      "0.0001412047115305 0.0001412047115305 True True\n",
      "0.000134144475954 0.000134144475954 True True\n",
      "0.0001200240048009 0.0001200240048009 True True\n",
      "0.0001200240048009 0.0001200240048009 True True\n"
     ]
    }
   ],
   "source": [
    "for x, y in zip_longest(gather1_rows, gather2_rows, fillvalue=(None, None, None)):\n",
    "    print (x[0], y[0], round(x[0], 3) == round(y[0], 3), x[1] == y[1])\n",
    "    if x[1] != y[1]:\n",
    "        print('***\\t', x[1])\n",
    "        print('\\t', y[1])"
   ]
  },
  {
   "cell_type": "code",
   "execution_count": null,
   "id": "c0b93def-fae5-46fa-bcac-23422136567f",
   "metadata": {},
   "outputs": [],
   "source": []
  },
  {
   "cell_type": "code",
   "execution_count": null,
   "id": "994ef095-f45f-4b77-9a63-6717a9b0f427",
   "metadata": {},
   "outputs": [],
   "source": []
  }
 ],
 "metadata": {
  "kernelspec": {
   "display_name": "Python 3 (ipykernel)",
   "language": "python",
   "name": "python3"
  },
  "language_info": {
   "codemirror_mode": {
    "name": "ipython",
    "version": 3
   },
   "file_extension": ".py",
   "mimetype": "text/x-python",
   "name": "python",
   "nbconvert_exporter": "python",
   "pygments_lexer": "ipython3",
   "version": "3.11.6"
  }
 },
 "nbformat": 4,
 "nbformat_minor": 5
}
