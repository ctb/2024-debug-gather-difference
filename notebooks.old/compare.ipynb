{
 "cells": [
  {
   "cell_type": "code",
   "execution_count": 19,
   "id": "304e620b-bfc0-4c6f-bced-3ae1177d842f",
   "metadata": {},
   "outputs": [
    {
     "name": "stdout",
     "output_type": "stream",
     "text": [
      "LICENSE\n",
      "README.md\n",
      "SRR606249.trim.k31.sig.zip\n",
      "SRR606249.x.combined-matches.gather.csv\n",
      "\u001b[34mbak\u001b[m\u001b[m/\n",
      "combined-k21.sig.zip\n",
      "\u001b[34mcombined-matches-k31.rocksdb\u001b[m\u001b[m/\n",
      "combined-matches-k31.sig.zip\n",
      "combined-matches.csv\n",
      "compare.ipynb\n",
      "run-fmg.sh\n",
      "run-fmg.sh~\n",
      "srr.fg.csv\n",
      "srr.fg.full.csv\n",
      "srr.fmg-rdb.csv\n",
      "srr.fmg.csv\n"
     ]
    }
   ],
   "source": [
    "ls"
   ]
  },
  {
   "cell_type": "code",
   "execution_count": 20,
   "id": "df9eca9b-f7f9-4a05-9120-f805dc616235",
   "metadata": {},
   "outputs": [],
   "source": [
    "import pandas as pd"
   ]
  },
  {
   "cell_type": "code",
   "execution_count": 21,
   "id": "7999671b-791c-49cf-a324-e541a748c2db",
   "metadata": {},
   "outputs": [],
   "source": [
    "SRR606249_gather = pd.read_csv('bak/SRR606249.gather.csv')\n",
    "srr_fg_full = pd.read_csv('srr.fg.full.csv')\n",
    "#SRR606249_x_gtdb_rs214 = pd.read_csv('SRR606249.x.gtdb-rs214.gather.csv')\n",
    "SRR606249_x_gtdb_rs214 = pd.read_csv('SRR606249.x.combined-matches.gather.csv') # against subset"
   ]
  },
  {
   "cell_type": "code",
   "execution_count": 22,
   "id": "3c7c9834-1fdc-4e85-b672-de4da50dcc91",
   "metadata": {},
   "outputs": [
    {
     "name": "stdout",
     "output_type": "stream",
     "text": [
      "84 84 84\n"
     ]
    }
   ],
   "source": [
    "print(len(SRR606249_gather), len(srr_fg_full), len(SRR606249_x_gtdb_rs214))"
   ]
  },
  {
   "cell_type": "code",
   "execution_count": 5,
   "id": "755b29ea-3dc8-4ecf-8d9f-2863394f916c",
   "metadata": {},
   "outputs": [
    {
     "data": {
      "text/html": [
       "<div>\n",
       "<style scoped>\n",
       "    .dataframe tbody tr th:only-of-type {\n",
       "        vertical-align: middle;\n",
       "    }\n",
       "\n",
       "    .dataframe tbody tr th {\n",
       "        vertical-align: top;\n",
       "    }\n",
       "\n",
       "    .dataframe thead th {\n",
       "        text-align: right;\n",
       "    }\n",
       "</style>\n",
       "<table border=\"1\" class=\"dataframe\">\n",
       "  <thead>\n",
       "    <tr style=\"text-align: right;\">\n",
       "      <th></th>\n",
       "      <th>intersect_bp</th>\n",
       "      <th>f_orig_query</th>\n",
       "      <th>f_match</th>\n",
       "      <th>f_unique_to_query</th>\n",
       "      <th>f_unique_weighted</th>\n",
       "      <th>average_abund</th>\n",
       "      <th>median_abund</th>\n",
       "      <th>std_abund</th>\n",
       "      <th>match_filename</th>\n",
       "      <th>match_name</th>\n",
       "      <th>...</th>\n",
       "      <th>scaled</th>\n",
       "      <th>query_n_hashes</th>\n",
       "      <th>query_abundance</th>\n",
       "      <th>query_containment_ani</th>\n",
       "      <th>match_containment_ani</th>\n",
       "      <th>average_containment_ani</th>\n",
       "      <th>max_containment_ani</th>\n",
       "      <th>n_unique_weighted_found</th>\n",
       "      <th>sum_weighted_found</th>\n",
       "      <th>total_weighted_hashes</th>\n",
       "    </tr>\n",
       "  </thead>\n",
       "  <tbody>\n",
       "    <tr>\n",
       "      <th>83</th>\n",
       "      <td>3832000</td>\n",
       "      <td>0.009018</td>\n",
       "      <td>0.00893</td>\n",
       "      <td>0.00023</td>\n",
       "      <td>0.00013</td>\n",
       "      <td>19.058824</td>\n",
       "      <td>18.0</td>\n",
       "      <td>11.281447</td>\n",
       "      <td>NaN</td>\n",
       "      <td>GCF_000377605.1 Salinispora arenicola CNT859 s...</td>\n",
       "      <td>...</td>\n",
       "      <td>1000</td>\n",
       "      <td>221608</td>\n",
       "      <td>True</td>\n",
       "      <td>0.763211</td>\n",
       "      <td>0.858813</td>\n",
       "      <td>0.811012</td>\n",
       "      <td>0.858813</td>\n",
       "      <td>972</td>\n",
       "      <td>7152449</td>\n",
       "      <td>7462785</td>\n",
       "    </tr>\n",
       "  </tbody>\n",
       "</table>\n",
       "<p>1 rows × 31 columns</p>\n",
       "</div>"
      ],
      "text/plain": [
       "    intersect_bp  f_orig_query  f_match  f_unique_to_query  f_unique_weighted  \\\n",
       "83       3832000      0.009018  0.00893            0.00023            0.00013   \n",
       "\n",
       "    average_abund  median_abund  std_abund  match_filename  \\\n",
       "83      19.058824          18.0  11.281447             NaN   \n",
       "\n",
       "                                           match_name  ... scaled  \\\n",
       "83  GCF_000377605.1 Salinispora arenicola CNT859 s...  ...   1000   \n",
       "\n",
       "    query_n_hashes  query_abundance  query_containment_ani  \\\n",
       "83          221608             True               0.763211   \n",
       "\n",
       "    match_containment_ani average_containment_ani max_containment_ani  \\\n",
       "83               0.858813                0.811012            0.858813   \n",
       "\n",
       "   n_unique_weighted_found  sum_weighted_found  total_weighted_hashes  \n",
       "83                     972             7152449                7462785  \n",
       "\n",
       "[1 rows x 31 columns]"
      ]
     },
     "execution_count": 5,
     "metadata": {},
     "output_type": "execute_result"
    }
   ],
   "source": [
    "SRR606249_gather.tail(1)"
   ]
  },
  {
   "cell_type": "code",
   "execution_count": 6,
   "id": "832de181-78d8-461c-b03b-d50a6e8a706e",
   "metadata": {},
   "outputs": [
    {
     "data": {
      "text/html": [
       "<div>\n",
       "<style scoped>\n",
       "    .dataframe tbody tr th:only-of-type {\n",
       "        vertical-align: middle;\n",
       "    }\n",
       "\n",
       "    .dataframe tbody tr th {\n",
       "        vertical-align: top;\n",
       "    }\n",
       "\n",
       "    .dataframe thead th {\n",
       "        text-align: right;\n",
       "    }\n",
       "</style>\n",
       "<table border=\"1\" class=\"dataframe\">\n",
       "  <thead>\n",
       "    <tr style=\"text-align: right;\">\n",
       "      <th></th>\n",
       "      <th>intersect_bp</th>\n",
       "      <th>f_orig_query</th>\n",
       "      <th>f_match</th>\n",
       "      <th>f_unique_to_query</th>\n",
       "      <th>f_unique_weighted</th>\n",
       "      <th>average_abund</th>\n",
       "      <th>median_abund</th>\n",
       "      <th>std_abund</th>\n",
       "      <th>match_filename</th>\n",
       "      <th>match_name</th>\n",
       "      <th>...</th>\n",
       "      <th>scaled</th>\n",
       "      <th>query_n_hashes</th>\n",
       "      <th>query_abundance</th>\n",
       "      <th>query_containment_ani</th>\n",
       "      <th>match_containment_ani</th>\n",
       "      <th>average_containment_ani</th>\n",
       "      <th>max_containment_ani</th>\n",
       "      <th>n_unique_weighted_found</th>\n",
       "      <th>sum_weighted_found</th>\n",
       "      <th>total_weighted_hashes</th>\n",
       "    </tr>\n",
       "  </thead>\n",
       "  <tbody>\n",
       "    <tr>\n",
       "      <th>83</th>\n",
       "      <td>3832000</td>\n",
       "      <td>0.009018</td>\n",
       "      <td>0.00893</td>\n",
       "      <td>0.00023</td>\n",
       "      <td>0.00013</td>\n",
       "      <td>19.058824</td>\n",
       "      <td>18.0</td>\n",
       "      <td>11.281447</td>\n",
       "      <td>NaN</td>\n",
       "      <td>GCF_000377605.1 Salinispora arenicola CNT859 s...</td>\n",
       "      <td>...</td>\n",
       "      <td>1000</td>\n",
       "      <td>221608</td>\n",
       "      <td>True</td>\n",
       "      <td>0.763211</td>\n",
       "      <td>0.858813</td>\n",
       "      <td>0.811012</td>\n",
       "      <td>0.858813</td>\n",
       "      <td>972</td>\n",
       "      <td>7152449</td>\n",
       "      <td>7462785</td>\n",
       "    </tr>\n",
       "  </tbody>\n",
       "</table>\n",
       "<p>1 rows × 31 columns</p>\n",
       "</div>"
      ],
      "text/plain": [
       "    intersect_bp  f_orig_query  f_match  f_unique_to_query  f_unique_weighted  \\\n",
       "83       3832000      0.009018  0.00893            0.00023            0.00013   \n",
       "\n",
       "    average_abund  median_abund  std_abund  match_filename  \\\n",
       "83      19.058824          18.0  11.281447             NaN   \n",
       "\n",
       "                                           match_name  ... scaled  \\\n",
       "83  GCF_000377605.1 Salinispora arenicola CNT859 s...  ...   1000   \n",
       "\n",
       "    query_n_hashes  query_abundance  query_containment_ani  \\\n",
       "83          221608             True               0.763211   \n",
       "\n",
       "    match_containment_ani average_containment_ani max_containment_ani  \\\n",
       "83               0.858813                0.811012            0.858813   \n",
       "\n",
       "   n_unique_weighted_found  sum_weighted_found  total_weighted_hashes  \n",
       "83                     972             7152449                7462785  \n",
       "\n",
       "[1 rows x 31 columns]"
      ]
     },
     "execution_count": 6,
     "metadata": {},
     "output_type": "execute_result"
    }
   ],
   "source": [
    "srr_fg_full.tail(1)"
   ]
  },
  {
   "cell_type": "code",
   "execution_count": 7,
   "id": "5fd72c46-305d-433f-9a6c-0f56d642cc1b",
   "metadata": {},
   "outputs": [
    {
     "data": {
      "text/html": [
       "<div>\n",
       "<style scoped>\n",
       "    .dataframe tbody tr th:only-of-type {\n",
       "        vertical-align: middle;\n",
       "    }\n",
       "\n",
       "    .dataframe tbody tr th {\n",
       "        vertical-align: top;\n",
       "    }\n",
       "\n",
       "    .dataframe thead th {\n",
       "        text-align: right;\n",
       "    }\n",
       "</style>\n",
       "<table border=\"1\" class=\"dataframe\">\n",
       "  <thead>\n",
       "    <tr style=\"text-align: right;\">\n",
       "      <th></th>\n",
       "      <th>intersect_bp</th>\n",
       "      <th>f_orig_query</th>\n",
       "      <th>f_match</th>\n",
       "      <th>f_unique_to_query</th>\n",
       "      <th>f_unique_weighted</th>\n",
       "      <th>average_abund</th>\n",
       "      <th>median_abund</th>\n",
       "      <th>std_abund</th>\n",
       "      <th>filename</th>\n",
       "      <th>name</th>\n",
       "      <th>...</th>\n",
       "      <th>query_n_hashes</th>\n",
       "      <th>query_abundance</th>\n",
       "      <th>query_containment_ani</th>\n",
       "      <th>match_containment_ani</th>\n",
       "      <th>average_containment_ani</th>\n",
       "      <th>max_containment_ani</th>\n",
       "      <th>potential_false_negative</th>\n",
       "      <th>n_unique_weighted_found</th>\n",
       "      <th>sum_weighted_found</th>\n",
       "      <th>total_weighted_hashes</th>\n",
       "    </tr>\n",
       "  </thead>\n",
       "  <tbody>\n",
       "    <tr>\n",
       "      <th>83</th>\n",
       "      <td>436000</td>\n",
       "      <td>0.001026</td>\n",
       "      <td>0.023213</td>\n",
       "      <td>0.00012</td>\n",
       "      <td>0.000011</td>\n",
       "      <td>1.666667</td>\n",
       "      <td>1.0</td>\n",
       "      <td>0.963382</td>\n",
       "      <td>/group/datalabgrp/ctbrown/SRR606249-feb13-2024...</td>\n",
       "      <td>GCF_001069785.1 Streptococcus parasanguinis st...</td>\n",
       "      <td>...</td>\n",
       "      <td>424915</td>\n",
       "      <td>True</td>\n",
       "      <td>0.800915</td>\n",
       "      <td>0.949169</td>\n",
       "      <td>0.875042</td>\n",
       "      <td>0.949169</td>\n",
       "      <td>False</td>\n",
       "      <td>85</td>\n",
       "      <td>7152456</td>\n",
       "      <td>7462785</td>\n",
       "    </tr>\n",
       "  </tbody>\n",
       "</table>\n",
       "<p>1 rows × 32 columns</p>\n",
       "</div>"
      ],
      "text/plain": [
       "    intersect_bp  f_orig_query   f_match  f_unique_to_query  \\\n",
       "83        436000      0.001026  0.023213            0.00012   \n",
       "\n",
       "    f_unique_weighted  average_abund  median_abund  std_abund  \\\n",
       "83           0.000011       1.666667           1.0   0.963382   \n",
       "\n",
       "                                             filename  \\\n",
       "83  /group/datalabgrp/ctbrown/SRR606249-feb13-2024...   \n",
       "\n",
       "                                                 name  ... query_n_hashes  \\\n",
       "83  GCF_001069785.1 Streptococcus parasanguinis st...  ...         424915   \n",
       "\n",
       "    query_abundance  query_containment_ani  match_containment_ani  \\\n",
       "83             True               0.800915               0.949169   \n",
       "\n",
       "    average_containment_ani max_containment_ani potential_false_negative  \\\n",
       "83                 0.875042            0.949169                    False   \n",
       "\n",
       "   n_unique_weighted_found  sum_weighted_found  total_weighted_hashes  \n",
       "83                      85             7152456                7462785  \n",
       "\n",
       "[1 rows x 32 columns]"
      ]
     },
     "execution_count": 7,
     "metadata": {},
     "output_type": "execute_result"
    }
   ],
   "source": [
    "SRR606249_x_gtdb_rs214.tail(1)"
   ]
  },
  {
   "cell_type": "code",
   "execution_count": 23,
   "id": "61806e6c-29f1-401c-9ca3-a0fe3a9c4cd6",
   "metadata": {},
   "outputs": [
    {
     "data": {
      "text/plain": [
       "True"
      ]
     },
     "execution_count": 23,
     "metadata": {},
     "output_type": "execute_result"
    }
   ],
   "source": [
    "all(srr_fg_full == SRR606249_gather)"
   ]
  },
  {
   "cell_type": "code",
   "execution_count": 24,
   "id": "7bc7ca80-ce5e-413b-b4c0-e96275abbc79",
   "metadata": {},
   "outputs": [
    {
     "name": "stdout",
     "output_type": "stream",
     "text": [
      "{'match_filename', 'match_md5', 'match_name'}\n",
      "{'potential_false_negative', 'filename', 'name', 'md5'}\n"
     ]
    }
   ],
   "source": [
    "col1 = set(srr_fg_full.columns)\n",
    "col2 = set(SRR606249_x_gtdb_rs214.columns)\n",
    "\n",
    "print(col1 - col2)\n",
    "print(col2 - col1)"
   ]
  },
  {
   "cell_type": "code",
   "execution_count": 25,
   "id": "596cab4c-28e4-4990-b85e-4907296b3f37",
   "metadata": {},
   "outputs": [],
   "source": [
    "names1 = set(srr_fg_full.loc[:, 'match_name'])\n",
    "names2 = set(SRR606249_x_gtdb_rs214.loc[:, 'name'])"
   ]
  },
  {
   "cell_type": "code",
   "execution_count": 26,
   "id": "ba7eebd6-2a84-4ef0-9a79-25501ce000fa",
   "metadata": {},
   "outputs": [
    {
     "data": {
      "text/plain": [
       "{'GCF_000022325.1 Caldicellulosiruptor bescii DSM 6725 strain=DSM 6725, ASM2232v1',\n",
       " 'GCF_000419565.1 Sphingomonas melonis FR1 strain=FR1, ASM41956v1',\n",
       " 'GCF_002959625.1 Bacteroides vulgatus strain=ATCC 8492, ASM295962v1'}"
      ]
     },
     "execution_count": 26,
     "metadata": {},
     "output_type": "execute_result"
    }
   ],
   "source": [
    "names1 - names2"
   ]
  },
  {
   "cell_type": "code",
   "execution_count": 27,
   "id": "fc5525f4-6b8b-4afb-b78e-1b0560e5385f",
   "metadata": {},
   "outputs": [
    {
     "data": {
      "text/plain": [
       "{'GCF_000012825.1 Bacteroides vulgatus ATCC 8482 strain=ATCC 8482, ASM1282v1',\n",
       " 'GCF_000379045.1 Sphingomonas melonis DAPP-PG 224 strain=DAPP-PG 224, ASM37904v1',\n",
       " 'GCF_900184165.1 Caldicellulosiruptor bescii strain=DSMZ 6725, IMG-taxon 2663762791 annotated assembly'}"
      ]
     },
     "execution_count": 27,
     "metadata": {},
     "output_type": "execute_result"
    }
   ],
   "source": [
    "names2 - names1"
   ]
  },
  {
   "cell_type": "code",
   "execution_count": 28,
   "id": "62e5d8aa-4332-474e-a2aa-b3f267260851",
   "metadata": {},
   "outputs": [],
   "source": [
    "combined = names1.union(names2)\n",
    "picklist = pd.DataFrame(dict(matches=list(combined)))"
   ]
  },
  {
   "cell_type": "code",
   "execution_count": 17,
   "id": "adb84c41-8396-4b37-884b-70cd74defff3",
   "metadata": {},
   "outputs": [
    {
     "data": {
      "text/html": [
       "<div>\n",
       "<style scoped>\n",
       "    .dataframe tbody tr th:only-of-type {\n",
       "        vertical-align: middle;\n",
       "    }\n",
       "\n",
       "    .dataframe tbody tr th {\n",
       "        vertical-align: top;\n",
       "    }\n",
       "\n",
       "    .dataframe thead th {\n",
       "        text-align: right;\n",
       "    }\n",
       "</style>\n",
       "<table border=\"1\" class=\"dataframe\">\n",
       "  <thead>\n",
       "    <tr style=\"text-align: right;\">\n",
       "      <th></th>\n",
       "      <th>matches</th>\n",
       "    </tr>\n",
       "  </thead>\n",
       "  <tbody>\n",
       "    <tr>\n",
       "      <th>0</th>\n",
       "      <td>GCF_019884805.1 Thermus thermophilus strain=N-...</td>\n",
       "    </tr>\n",
       "    <tr>\n",
       "      <th>1</th>\n",
       "      <td>GCF_023845025.1 Salinispora arenicola strain=R...</td>\n",
       "    </tr>\n",
       "    <tr>\n",
       "      <th>2</th>\n",
       "      <td>GCF_000016385.1 Pyrobaculum arsenaticum DSM 13...</td>\n",
       "    </tr>\n",
       "    <tr>\n",
       "      <th>3</th>\n",
       "      <td>GCF_000011965.2 Ruegeria pomeroyi DSS-3 strain...</td>\n",
       "    </tr>\n",
       "    <tr>\n",
       "      <th>4</th>\n",
       "      <td>GCF_000009145.1 Nitrosomonas europaea ATCC 197...</td>\n",
       "    </tr>\n",
       "    <tr>\n",
       "      <th>...</th>\n",
       "      <td>...</td>\n",
       "    </tr>\n",
       "    <tr>\n",
       "      <th>85</th>\n",
       "      <td>GCF_000195675.1 Bordetella bronchiseptica RB50...</td>\n",
       "    </tr>\n",
       "    <tr>\n",
       "      <th>86</th>\n",
       "      <td>GCA_001596115.1 Shigella sp. PAMC 28760 strain...</td>\n",
       "    </tr>\n",
       "    <tr>\n",
       "      <th>87</th>\n",
       "      <td>GCF_001069785.1 Streptococcus parasanguinis st...</td>\n",
       "    </tr>\n",
       "    <tr>\n",
       "      <th>88</th>\n",
       "      <td>GCA_003514505.1 Proteiniclasticum sp., ASM3514...</td>\n",
       "    </tr>\n",
       "    <tr>\n",
       "      <th>89</th>\n",
       "      <td>GCF_000006985.1 Chlorobaculum tepidum TLS stra...</td>\n",
       "    </tr>\n",
       "  </tbody>\n",
       "</table>\n",
       "<p>90 rows × 1 columns</p>\n",
       "</div>"
      ],
      "text/plain": [
       "                                              matches\n",
       "0   GCF_019884805.1 Thermus thermophilus strain=N-...\n",
       "1   GCF_023845025.1 Salinispora arenicola strain=R...\n",
       "2   GCF_000016385.1 Pyrobaculum arsenaticum DSM 13...\n",
       "3   GCF_000011965.2 Ruegeria pomeroyi DSS-3 strain...\n",
       "4   GCF_000009145.1 Nitrosomonas europaea ATCC 197...\n",
       "..                                                ...\n",
       "85  GCF_000195675.1 Bordetella bronchiseptica RB50...\n",
       "86  GCA_001596115.1 Shigella sp. PAMC 28760 strain...\n",
       "87  GCF_001069785.1 Streptococcus parasanguinis st...\n",
       "88  GCA_003514505.1 Proteiniclasticum sp., ASM3514...\n",
       "89  GCF_000006985.1 Chlorobaculum tepidum TLS stra...\n",
       "\n",
       "[90 rows x 1 columns]"
      ]
     },
     "execution_count": 17,
     "metadata": {},
     "output_type": "execute_result"
    }
   ],
   "source": [
    "picklist"
   ]
  },
  {
   "cell_type": "code",
   "execution_count": 18,
   "id": "7fab836e-d042-4ddf-bfc6-9c9f940e6cf3",
   "metadata": {},
   "outputs": [],
   "source": [
    "picklist.to_csv('combined-matches.csv')"
   ]
  },
  {
   "cell_type": "code",
   "execution_count": null,
   "id": "18c0e696-54b5-43d4-87e1-a749764ede5b",
   "metadata": {},
   "outputs": [],
   "source": []
  }
 ],
 "metadata": {
  "kernelspec": {
   "display_name": "py3111arm",
   "language": "python",
   "name": "py3111arm"
  },
  "language_info": {
   "codemirror_mode": {
    "name": "ipython",
    "version": 3
   },
   "file_extension": ".py",
   "mimetype": "text/x-python",
   "name": "python",
   "nbconvert_exporter": "python",
   "pygments_lexer": "ipython3",
   "version": "3.11.6"
  }
 },
 "nbformat": 4,
 "nbformat_minor": 5
}
