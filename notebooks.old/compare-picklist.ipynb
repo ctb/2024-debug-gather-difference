{
 "cells": [
  {
   "cell_type": "markdown",
   "id": "aa043560-41fd-4cbf-a736-5a53842202d0",
   "metadata": {},
   "source": [
    "# Compare two different gather CSV files to find differences, if any"
   ]
  },
  {
   "cell_type": "code",
   "execution_count": 1,
   "id": "84991a64-c661-4e1b-883a-d1991da95ec8",
   "metadata": {},
   "outputs": [],
   "source": [
    "import pandas as pd\n",
    "from itertools import zip_longest"
   ]
  },
  {
   "cell_type": "code",
   "execution_count": 2,
   "id": "27537359-c0ef-45f5-a083-488118974765",
   "metadata": {},
   "outputs": [
    {
     "name": "stdout",
     "output_type": "stream",
     "text": [
      "SRR606249.gather.csv\n",
      "SRR606249.prefetch.csv\n",
      "SRR606249.x.combined-matches.gather.picklist.csv\n",
      "srr.fg.csv\n",
      "srr.fmg.csv\n"
     ]
    }
   ],
   "source": [
    "ls *.csv"
   ]
  },
  {
   "cell_type": "code",
   "execution_count": 3,
   "id": "3c66134e-1a60-4f27-a8d7-93c38f17c2cf",
   "metadata": {},
   "outputs": [],
   "source": [
    "gather1 = pd.read_csv('SRR606249.x.combined-matches.gather.picklist.csv')\n",
    "gather2 = pd.read_csv('srr.fmg.csv')"
   ]
  },
  {
   "cell_type": "markdown",
   "id": "3b5c9ddc-e8be-42ec-8699-7c8fc473a04c",
   "metadata": {},
   "source": [
    "## Compare column names, since we sometimes use different column names...\n"
   ]
  },
  {
   "cell_type": "code",
   "execution_count": 4,
   "id": "c0a71171-055a-4cb2-9d6a-e126bdc17085",
   "metadata": {},
   "outputs": [
    {
     "data": {
      "text/plain": [
       "{'filename', 'md5', 'name', 'potential_false_negative'}"
      ]
     },
     "execution_count": 4,
     "metadata": {},
     "output_type": "execute_result"
    }
   ],
   "source": [
    "set(gather1.columns) - set(gather2.columns)"
   ]
  },
  {
   "cell_type": "code",
   "execution_count": 5,
   "id": "63c9da99-7a5b-4da8-89f0-fb943362a906",
   "metadata": {},
   "outputs": [
    {
     "data": {
      "text/plain": [
       "{'match_filename', 'match_md5', 'match_name'}"
      ]
     },
     "execution_count": 5,
     "metadata": {},
     "output_type": "execute_result"
    }
   ],
   "source": [
    "set(gather2.columns) - set(gather1.columns)"
   ]
  },
  {
   "cell_type": "code",
   "execution_count": 6,
   "id": "c45ca5a0-9bd3-4410-ac41-268df9b7af51",
   "metadata": {},
   "outputs": [],
   "source": [
    "gather2 = gather2.rename(columns={ 'match_name': 'name', 'match_md5': 'md5', 'match_filename': 'filename'})"
   ]
  },
  {
   "cell_type": "markdown",
   "id": "5893a103-812a-4bc2-ba74-5cd4e998ca2e",
   "metadata": {},
   "source": [
    "## Convert pandas dataframes into something simple to compare"
   ]
  },
  {
   "cell_type": "code",
   "execution_count": 7,
   "id": "1a374834-832d-46bf-be6a-84c35c8ee397",
   "metadata": {},
   "outputs": [
    {
     "data": {
      "text/plain": [
       "[[0.0218961439346692,\n",
       "  'GCF_000013645.1 Paraburkholderia xenovorans LB400 strain=LB400, ASM1364v1',\n",
       "  415611000],\n",
       " [0.017151665627243,\n",
       "  'GCF_000009705.1 Nostoc sp. PCC 7120 = FACHB-418 strain=PCC 7120, ASM970v1',\n",
       "  408323000],\n",
       " [0.0165656660743913,\n",
       "  'GCF_000196115.1 Rhodopirellula baltica SH 1 strain=1, ASM19611v1',\n",
       "  401284000]]"
      ]
     },
     "execution_count": 7,
     "metadata": {},
     "output_type": "execute_result"
    }
   ],
   "source": [
    "gather1_rows = [ list(tup[1]) for tup in gather1[['f_unique_to_query', 'name', 'remaining_bp']].iterrows() ]\n",
    "gather1_rows.sort(reverse=True)\n",
    "gather1_rows[:3]"
   ]
  },
  {
   "cell_type": "code",
   "execution_count": 8,
   "id": "7447f598-bd63-4988-b179-e12cba5f57fb",
   "metadata": {},
   "outputs": [
    {
     "data": {
      "text/plain": [
       "[[0.0218961439346692,\n",
       "  'GCF_000013645.1 Paraburkholderia xenovorans LB400 strain=LB400, ASM1364v1',\n",
       "  415611000],\n",
       " [0.017151665627243,\n",
       "  'GCF_000009705.1 Nostoc sp. PCC 7120 = FACHB-418 strain=PCC 7120, ASM970v1',\n",
       "  408323000],\n",
       " [0.0165656660743913,\n",
       "  'GCF_000196115.1 Rhodopirellula baltica SH 1 strain=1, ASM19611v1',\n",
       "  401284000]]"
      ]
     },
     "execution_count": 8,
     "metadata": {},
     "output_type": "execute_result"
    }
   ],
   "source": [
    "gather2_rows = [ list(tup[1]) for tup in gather2[['f_unique_to_query', 'name', 'remaining_bp']].iterrows() ]\n",
    "gather2_rows.sort(reverse=True)\n",
    "gather2_rows[:3]"
   ]
  },
  {
   "cell_type": "markdown",
   "id": "59a1123e-07a5-485f-b1ad-8cc3f403664a",
   "metadata": {},
   "source": [
    "## Compare!"
   ]
  },
  {
   "cell_type": "code",
   "execution_count": 9,
   "id": "e9b50356-db25-48e0-b5fa-0d45d2088acc",
   "metadata": {},
   "outputs": [
    {
     "name": "stdout",
     "output_type": "stream",
     "text": [
      "0.0218961439346692 0.0218961439346692 True True\n",
      "0.017151665627243 0.017151665627243 True True\n",
      "0.0165656660743913 0.0165656660743913 True True\n",
      "0.0155419319157949 0.0155419319157949 True True\n",
      "0.0148876834190367 0.0148876834190367 True True\n",
      "0.0127601990986432 0.0127601990986432 True True\n",
      "0.0122071473118153 0.0122071473118153 True True\n",
      "0.0121388983679088 0.0121388983679088 True True\n",
      "0.01191297082946 0.01191297082946 True True\n",
      "0.011882376475295 0.011882376475295 True True\n",
      "0.0116423284656931 0.0116423284656931 True True\n",
      "0.0111622324464892 0.0111622324464892 True True\n",
      "0.0108939434945812 0.0108939434945812 True True\n",
      "0.010658602308697 0.010658602308697 True True\n",
      "0.0100255345186684 0.0100255345186684 True True\n",
      "0.0098066672157961 0.0098066672157961 True True\n",
      "0.0092536154289681 0.0092536154289681 True True\n",
      "0.0090700493039784 0.0090700493039784 True True\n",
      "0.0088888365908475 0.0088888365908475 True True\n",
      "0.0086040737559276 0.0086040737559276 True True\n",
      "0.0076415283056611 0.0076415283056611 True True\n",
      "0.0075356247720132 0.0075356247720132 True True\n",
      "0.0069731593377499 0.0069731593377499 True True\n",
      "0.0067660590941717 0.0067660590941717 True True\n",
      "0.0067354647400068 0.0067354647400068 True True\n",
      "0.006702516973983 0.006702516973983 True True\n",
      "0.0065401315557229 0.0065401315557229 True True\n",
      "0.0064177541390631 0.0064177541390631 True True\n",
      "0.0063565654307332 0.0063565654307332 True True\n",
      "0.0063259710765682 0.0063259710765682 True True\n",
      "0.0063047903698386 0.0063047903698386 True True\n",
      "0.0062883164868267 0.0062883164868267 True True\n",
      "0.0062106538954849 0.0062106538954849 True True\n",
      "0.0061212242448489 0.0061212242448489 True True\n",
      "0.0059211842368473 0.0059211842368473 True True\n",
      "0.0057964534083287 0.0057964534083287 True True\n",
      "0.0052881164468187 0.0052881164468187 True True\n",
      "0.0051986867961827 0.0051986867961827 True True\n",
      "0.0050951366743937 0.0050951366743937 True True\n",
      "0.0050763093795229 0.0050763093795229 True True\n",
      "0.0050410082016403 0.0050410082016403 True True\n",
      "0.0050339479660638 0.0050339479660638 True True\n",
      "0.005015120671193 0.005015120671193 True True\n",
      "0.0049633456102985 0.0049633456102985 True True\n",
      "0.0047774260734499 0.0047774260734499 True True\n",
      "0.0046997634821081 0.0046997634821081 True True\n",
      "0.0046597554805078 0.0046597554805078 True True\n",
      "0.0046409281856371 0.0046409281856371 True True\n",
      "0.0045938599484602 0.0045938599484602 True True\n",
      "0.0043561653507172 0.0043561653507172 True True\n",
      "0.004327924408411 0.004327924408411 True True\n",
      "0.0043232175846934 0.0043232175846934 True True\n",
      "0.0041773060494451 0.0041773060494451 True True\n",
      "0.0040972900462445 0.0040972900462445 True True\n",
      "0.0039513785109963 0.0039513785109963 True True\n",
      "0.0039349046279844 0.0039349046279844 True True\n",
      "0.0038384147417718 0.0038384147417718 True True\n",
      "0.0036925032065236 0.0036925032065236 True True\n",
      "0.0036783827353706 0.0036783827353706 True True\n",
      "0.0035607121424284 0.0035607121424284 True True\n",
      "0.0034759893155101 0.0034759893155101 True True\n",
      "0.0030217808267535 0.0030217808267535 True True\n",
      "0.0026640622242095 0.0026640622242095 True True\n",
      "0.0017274043043902 0.0017274043043902 True True\n",
      "0.0012096536954449 0.0012096536954449 True True\n",
      "0.001014320511161 0.001014320511161 True True\n",
      "0.0009860795688549 0.0009860795688549 True True\n",
      "0.0008660555640539 0.0008660555640539 True True\n",
      "0.0004753891954861 0.0004753891954861 True True\n",
      "0.0004495016650388 0.0004495016650388 True True\n",
      "0.0004400880176035 0.0004400880176035 True True\n",
      "0.0003694856618382 0.0003694856618382 True True\n",
      "0.0003294776602379 0.0003294776602379 True True\n",
      "0.0002729957756257 0.0002729957756257 True True\n",
      "0.0002541684807549 0.0002541684807549 True True\n",
      "0.0002000400080016 0.0002000400080016 True True\n",
      "0.000192979772425 0.000192979772425 True True\n",
      "0.0001835661249897 0.0001835661249897 True True\n",
      "0.0001835661249897 0.0001835661249897 True True\n",
      "0.0001435581233893 0.0001435581233893 True True\n",
      "0.0001412047115305 0.0001412047115305 True True\n",
      "0.000134144475954 0.000134144475954 True True\n",
      "0.0001200240048009 0.0001200240048009 True True\n",
      "0.0001200240048009 0.0001200240048009 True True\n"
     ]
    }
   ],
   "source": [
    "for x, y in zip_longest(gather1_rows, gather2_rows, fillvalue=(None, None, None)):\n",
    "    print (x[0], y[0], round(x[0], 3) == round(y[0], 3), x[1] == y[1])\n",
    "    if x[1] != y[1]:\n",
    "        print('***\\t', x[1])\n",
    "        print('\\t', y[1])\n",
    "        assert 0"
   ]
  },
  {
   "cell_type": "markdown",
   "id": "dba3301c-2ac8-4fcf-8b12-5a4e69feb0cb",
   "metadata": {},
   "source": [
    "# do some additional checking"
   ]
  },
  {
   "cell_type": "code",
   "execution_count": 10,
   "id": "fa69aa1d-f615-4b4f-9251-b56db611bc49",
   "metadata": {},
   "outputs": [
    {
     "data": {
      "text/plain": [
       "['DNA', 'DNA', 'DNA', 'DNA', 'DNA']"
      ]
     },
     "execution_count": 10,
     "metadata": {},
     "output_type": "execute_result"
    }
   ],
   "source": [
    "def extract_column_to_list(df, name):\n",
    "    col = df[[name]]\n",
    "    xx = [ list(tup[1])[0] for tup in col.iterrows() ]\n",
    "    return xx\n",
    "\n",
    "extract_column_to_list(gather1, 'moltype')[:5]"
   ]
  },
  {
   "cell_type": "code",
   "execution_count": 11,
   "id": "3cd6a8b1-10d5-4b29-833f-57d3d91d7273",
   "metadata": {},
   "outputs": [
    {
     "name": "stdout",
     "output_type": "stream",
     "text": [
      "same:\n",
      "* f_unique_weighted\n",
      "* remaining_bp\n",
      "* std_abund\n",
      "* f_match_orig\n",
      "* moltype\n",
      "* md5\n",
      "* total_weighted_hashes\n",
      "* ksize\n",
      "* query_name\n",
      "* intersect_bp\n",
      "* f_orig_query\n",
      "* query_bp\n",
      "* scaled\n",
      "* n_unique_weighted_found\n",
      "* name\n",
      "* query_abundance\n",
      "* query_filename\n",
      "* median_abund\n",
      "* unique_intersect_bp\n",
      "* gather_result_rank\n",
      "* f_unique_to_query\n",
      "* f_match\n",
      "* query_md5\n",
      "* average_abund\n",
      "diff:\n",
      "* filename\n",
      "* max_containment_ani\n",
      "* match_containment_ani\n",
      "* sum_weighted_found\n",
      "* average_containment_ani\n",
      "* query_n_hashes\n",
      "* query_containment_ani\n"
     ]
    }
   ],
   "source": [
    "round5 = lambda x: round(x, 5)\n",
    "fix_columns = {}\n",
    "fix_columns['moltype'] = lambda x: x.upper()\n",
    "fix_columns['std_abund'] = round5\n",
    "fix_columns['f_unique_weighted'] = round5\n",
    "fix_columns['query_md5'] = lambda x: x[:8]\n",
    "\n",
    "xx_same = []\n",
    "xx_diff = []\n",
    "\n",
    "diff_values = {}\n",
    "for name in set(gather1.columns).intersection(set(gather2.columns)):\n",
    "    col1 = extract_column_to_list(gather1, name)\n",
    "    col2 = extract_column_to_list(gather2, name)\n",
    "    if name in fix_columns:\n",
    "        fn = fix_columns[name]\n",
    "        col1 = [ fn(i) for i in col1 ]\n",
    "        col2 = [ fn(i) for i in col2 ]\n",
    "    col1.sort()\n",
    "    col2.sort()\n",
    "    same = col1 == col2\n",
    "    if not same:\n",
    "        xx_diff.append(name)\n",
    "        diff_values[name] = (col1, col2)\n",
    "    else:\n",
    "        xx_same.append(name)\n",
    "\n",
    "print(\"same:\")\n",
    "print(\"*\", \"\\n* \".join(xx_same))\n",
    "print(\"diff:\")\n",
    "print(\"*\", \"\\n* \".join(xx_diff))"
   ]
  },
  {
   "cell_type": "markdown",
   "id": "64b89da1-c3f4-4349-a9f7-24be372aa97f",
   "metadata": {},
   "source": [
    "## display the differences"
   ]
  },
  {
   "cell_type": "code",
   "execution_count": 12,
   "id": "fb17cecb-edaa-404c-92aa-a4a8bce65ba8",
   "metadata": {},
   "outputs": [
    {
     "name": "stdout",
     "output_type": "stream",
     "text": [
      "column: filename\n",
      "\t ['/Users/t/dev/2024-debug-gather-difference/combined-matches-k31.sig.zip', '/Users/t/dev/2024-debug-gather-difference/combined-matches-k31.sig.zip', '/Users/t/dev/2024-debug-gather-difference/combined-matches-k31.sig.zip', '/Users/t/dev/2024-debug-gather-difference/combined-matches-k31.sig.zip', '/Users/t/dev/2024-debug-gather-difference/combined-matches-k31.sig.zip']\n",
      "\t ['signatures/0376e0e4e8f660a71512eec2bcbbc793.sig.gz', 'signatures/03c6e78f14ab8af588f748653db2d6fb.sig.gz', 'signatures/05abaf28975f70b7399c549052f64e01.sig.gz', 'signatures/08a7e8122383feb4f03413e87457084a.sig.gz', 'signatures/09035b7cd317402c14fc924318845177.sig.gz']\n",
      "column: max_containment_ani\n",
      "\t [0.8749386857759329, 0.8904077865681246, 0.8953922532404506, 0.904302420512725, 0.9056884895571736]\n",
      "\t [0.8557860744055599, 0.858813070934693, 0.8721298182460694, 0.8735847304990553, 0.8856904039640281]\n",
      "column: match_containment_ani\n",
      "\t [0.8749386857759329, 0.8904077865681246, 0.8953922532404506, 0.904302420512725, 0.9056884895571736]\n",
      "\t [0.8557860744055599, 0.858813070934693, 0.8721298182460694, 0.8735847304990553, 0.8856904039640281]\n",
      "column: sum_weighted_found\n",
      "\t [62498, 236385, 901311, 1008705, 1118456]\n",
      "\t [62498, 236385, 901311, 1008705, 1118456]\n",
      "column: average_containment_ani\n",
      "\t [0.8138919890984035, 0.8271402263299952, 0.8286770749918335, 0.8292337595632988, 0.8365579332040078]\n",
      "\t [0.8030821713190552, 0.8035328288968542, 0.8126325027236858, 0.8148973681652129, 0.8165208378337229]\n",
      "column: query_n_hashes\n",
      "\t [424915, 424915, 424915, 424915, 424915]\n",
      "\t [221608, 221659, 221716, 221776, 221837]\n",
      "column: query_containment_ani\n",
      "\t [0.7508723762091855, 0.7528452924208743, 0.7588881994195399, 0.7674273768508421, 0.7680597325584729]\n",
      "\t [0.7473512717034176, 0.7473512717034176, 0.7500375272114719, 0.7512795833881485, 0.7516802749483165]\n"
     ]
    }
   ],
   "source": [
    "for name in xx_diff:\n",
    "    print('column:', name)\n",
    "    print('\\t', diff_values[name][0][:5])\n",
    "    print('\\t', diff_values[name][1][:5])"
   ]
  },
  {
   "cell_type": "code",
   "execution_count": 13,
   "id": "55b7b334-1879-4a42-82f1-064f4762e79f",
   "metadata": {},
   "outputs": [
    {
     "name": "stdout",
     "output_type": "stream",
     "text": [
      "62498 62498 True\n",
      "236385 236385 True\n",
      "901311 901311 True\n",
      "1008705 1008705 True\n",
      "1118456 1118456 True\n",
      "1193684 1193684 True\n",
      "1254446 1254446 True\n",
      "1309980 1309980 True\n",
      "1386711 1386711 True\n",
      "1514077 1514077 True\n",
      "1582287 1582287 True\n",
      "1668260 1668260 True\n",
      "1950653 1950653 True\n",
      "1993145 1993145 True\n",
      "2052525 2052525 True\n",
      "2283220 2283220 True\n",
      "2357379 2357379 True\n",
      "2681284 2681284 True\n",
      "2881423 2881423 True\n",
      "2973486 2973486 True\n",
      "3035985 3035985 True\n",
      "3083836 3083836 True\n",
      "3167290 3167290 True\n",
      "3257426 3257426 True\n",
      "3348580 3348580 True\n",
      "3474044 3474044 True\n",
      "3551638 3551638 True\n",
      "3788839 3788839 True\n",
      "3854935 3854935 True\n",
      "3932129 3932129 True\n",
      "4123436 4123436 True\n",
      "4215229 4215229 True\n",
      "4236597 4236597 True\n",
      "4322125 4322125 True\n",
      "4389460 4389460 True\n",
      "4424879 4424879 True\n",
      "4565008 4565008 True\n",
      "4612731 4612731 True\n",
      "4691026 4691026 True\n",
      "4772858 4772858 True\n",
      "4848277 4848277 True\n",
      "5029371 5029371 True\n",
      "5048037 5048037 True\n",
      "5106644 5106644 True\n",
      "5169630 5169630 True\n",
      "5273487 5273487 True\n",
      "5380082 5380082 True\n",
      "5492824 5492824 True\n",
      "5604837 5604837 True\n",
      "5791797 5791797 True\n",
      "5855337 5855337 True\n",
      "5965831 5965831 True\n",
      "6035119 6035119 True\n",
      "6199497 6199497 True\n",
      "6274561 6274561 True\n",
      "6595076 6595076 True\n",
      "6663773 6663773 True\n",
      "6728590 6728590 True\n",
      "6830287 6830287 True\n",
      "6875306 6875306 True\n",
      "6953482 6953482 True\n",
      "6974872 6974872 True\n",
      "6992077 6992077 True\n",
      "7034654 7034654 True\n",
      "7035618 7035618 True\n",
      "7131816 7131816 True\n",
      "7138051 7138051 True\n",
      "7142458 7142458 True\n",
      "7142721 7142721 True\n",
      "7142961 7142961 True\n",
      "7143294 7143294 True\n",
      "7145704 7145704 True\n",
      "7149224 7149224 True\n",
      "7149394 7149394 True\n",
      "7149594 7149594 True\n",
      "7149708 7149708 True\n",
      "7149819 7149819 True\n",
      "7149959 7149959 True\n",
      "7151143 7151143 True\n",
      "7151224 7151224 True\n",
      "7151291 7151291 True\n",
      "7151392 7151392 True\n",
      "7152364 7151477 False\n",
      "7152449 7152449 True\n"
     ]
    }
   ],
   "source": [
    "# WTF\n",
    "x, y = diff_values['sum_weighted_found']\n",
    "for i, j in list(zip(x, y)):\n",
    "    print(i, j, i==j)"
   ]
  },
  {
   "cell_type": "code",
   "execution_count": null,
   "id": "2011b4b7-4dc5-4568-9c16-76f17c7d909e",
   "metadata": {},
   "outputs": [],
   "source": []
  }
 ],
 "metadata": {
  "kernelspec": {
   "display_name": "Python 3 (ipykernel)",
   "language": "python",
   "name": "python3"
  },
  "language_info": {
   "codemirror_mode": {
    "name": "ipython",
    "version": 3
   },
   "file_extension": ".py",
   "mimetype": "text/x-python",
   "name": "python",
   "nbconvert_exporter": "python",
   "pygments_lexer": "ipython3",
   "version": "3.11.6"
  }
 },
 "nbformat": 4,
 "nbformat_minor": 5
}
